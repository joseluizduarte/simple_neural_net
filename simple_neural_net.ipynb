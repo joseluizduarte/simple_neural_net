{
  "nbformat": 4,
  "nbformat_minor": 0,
  "metadata": {
    "colab": {
      "name": "simple_neural_net.ipynb",
      "provenance": [],
      "collapsed_sections": [],
      "authorship_tag": "ABX9TyM8Gm/MHGo19t3AwMz2i41O",
      "include_colab_link": true
    },
    "kernelspec": {
      "name": "python3",
      "display_name": "Python 3"
    },
    "language_info": {
      "name": "python"
    }
  },
  "cells": [
    {
      "cell_type": "markdown",
      "metadata": {
        "id": "view-in-github",
        "colab_type": "text"
      },
      "source": [
        "<a href=\"https://colab.research.google.com/github/joseluizduarte/simple_neural_net/blob/main/simple_neural_net.ipynb\" target=\"_parent\"><img src=\"https://colab.research.google.com/assets/colab-badge.svg\" alt=\"Open In Colab\"/></a>"
      ]
    },
    {
      "cell_type": "markdown",
      "metadata": {
        "id": "9j0q_WmK18db"
      },
      "source": [
        "#Configuração do ambiente"
      ]
    },
    {
      "cell_type": "code",
      "metadata": {
        "colab": {
          "base_uri": "https://localhost:8080/",
          "height": 154
        },
        "id": "QWpTvJvP_62p",
        "outputId": "5d457dfd-3ad8-4070-de6c-b7e58aee50ee"
      },
      "source": [
        "#hide\n",
        "!pip install -Uqq fastbook\n",
        "import fastbook\n",
        "fastbook.setup_book()\n",
        "\n",
        "#hide\n",
        "from fastai.vision.all import *\n",
        "from fastbook import *\n",
        "\n",
        "matplotlib.rc('image', cmap='Greys')\n",
        "\n",
        "path = untar_data(URLs.MNIST)\n",
        "\n",
        "#hide\n",
        "Path.BASE_PATH = path\n",
        "\n",
        "from random import choice"
      ],
      "execution_count": null,
      "outputs": [
        {
          "output_type": "stream",
          "name": "stdout",
          "text": [
            "\u001b[K     |████████████████████████████████| 720 kB 7.2 MB/s \n",
            "\u001b[K     |████████████████████████████████| 1.2 MB 53.2 MB/s \n",
            "\u001b[K     |████████████████████████████████| 186 kB 56.6 MB/s \n",
            "\u001b[K     |████████████████████████████████| 46 kB 4.5 MB/s \n",
            "\u001b[K     |████████████████████████████████| 56 kB 4.1 MB/s \n",
            "\u001b[K     |████████████████████████████████| 51 kB 302 kB/s \n",
            "\u001b[?25hMounted at /content/gdrive\n"
          ]
        },
        {
          "output_type": "display_data",
          "data": {
            "text/html": [
              "\n",
              "    <div>\n",
              "        <style>\n",
              "            /* Turns off some styling */\n",
              "            progress {\n",
              "                /* gets rid of default border in Firefox and Opera. */\n",
              "                border: none;\n",
              "                /* Needs to be in here for Safari polyfill so background images work as expected. */\n",
              "                background-size: auto;\n",
              "            }\n",
              "            .progress-bar-interrupted, .progress-bar-interrupted::-webkit-progress-bar {\n",
              "                background: #F44336;\n",
              "            }\n",
              "        </style>\n",
              "      <progress value='15687680' class='' max='15683414' style='width:300px; height:20px; vertical-align: middle;'></progress>\n",
              "      100.03% [15687680/15683414 00:00<00:00]\n",
              "    </div>\n",
              "    "
            ],
            "text/plain": [
              "<IPython.core.display.HTML object>"
            ]
          },
          "metadata": {}
        }
      ]
    },
    {
      "cell_type": "markdown",
      "metadata": {
        "id": "7MuI6kke2Eoj"
      },
      "source": [
        "# Classe da rede"
      ]
    },
    {
      "cell_type": "code",
      "metadata": {
        "id": "uj5DdDuXJsjn"
      },
      "source": [
        "class SimpleNet:\n",
        "\n",
        "  # Inicia parâmetros\n",
        "  def init_params(sel, size, std=1.0):\n",
        "    return (torch.randn(size)*std).requires_grad_()\n",
        "\n",
        "  def __init__(self,dataset_train,dataset_test,features,batch_size=256,learning_rate=1.):\n",
        "    # Inicia parâmetros\n",
        "    w1 = self.init_params((28*28,features))\n",
        "    b1 = self.init_params(features)\n",
        "    w2 = self.init_params((features,1))\n",
        "    b2 = self.init_params(1)\n",
        "    self.params = w1, b1, w2, b2\n",
        "    # Divisão dos batchs\n",
        "    self.batch_size = 256\n",
        "    self.dataloader_train = DataLoader(dataset_train,batch_size=batch_size)\n",
        "    self.dataloader_test = DataLoader(dataset_test,batch_size=batch_size)\n",
        "    # Learning rate\n",
        "    self.learning_rate = learning_rate\n",
        "    self.last_epoch = 0\n",
        "    self.last_accuracy = 0\n",
        "\n",
        "  def model(self, xb):\n",
        "    w1, b1, w2, b2 = self.params \n",
        "    res = xb@w1 + b1\n",
        "    res = res.max(tensor(0.0))\n",
        "    res = res@w2 + b2\n",
        "    return res\n",
        "\n",
        "  # Função perda\n",
        "  def mnist_loss(self, pred, target):\n",
        "    pred = pred.sigmoid()\n",
        "    return torch.where(target==1, 1-pred, pred).mean()\n",
        "\n",
        "  # Cálculo do gradiente\n",
        "  def calc_gradient(self, x, y, model):\n",
        "    pred = model(x)\n",
        "    loss = self.mnist_loss(pred, y)\n",
        "    loss.backward()\n",
        "\n",
        "  def train_epoch(self):\n",
        "    for x, y in self.dataloader_train:\n",
        "      self.calc_gradient(x, y, self.model)\n",
        "      epoch_params = []\n",
        "      for p in self.params:\n",
        "        p.data -= p.grad*self.learning_rate\n",
        "        epoch_params.append(p.data)\n",
        "        p.grad.zero_()\n",
        "    return epoch_params\n",
        "\n",
        "  # Calcula a acurácia do batch\n",
        "  def batch_accuracy(self, x, y):\n",
        "    pred = x.sigmoid()\n",
        "    corrects = ( (pred >= 0.5) == y )\n",
        "    return corrects.float().mean()\n",
        "\n",
        "  # Validação da época\n",
        "  def validate_epoch(self):\n",
        "    accs = [self.batch_accuracy(self.model(x),y) for x, y in self.dataloader_test]\n",
        "    return round(torch.stack(accs).mean().item(), 5)\n",
        "\n",
        "  def train_net(self,number_epochs, stop=1):\n",
        "    for i in range(number_epochs):\n",
        "      current_epoch = self.last_epoch + 1\n",
        "      epoch_params = self.train_epoch()\n",
        "      epoch_accuracy = self.validate_epoch()\n",
        "      if epoch_accuracy > self.last_accuracy:\n",
        "        self.best_result = {'epoch': current_epoch, 'accuracy': epoch_accuracy, 'params': epoch_params}\n",
        "      self.last_epoch = current_epoch\n",
        "      self.last_accuracy = epoch_accuracy\n",
        "      print(f\"*** Epoch {current_epoch}: \", epoch_accuracy)\n",
        "      if self.last_accuracy > stop:\n",
        "        return\n",
        "\n",
        "  def find_number(self,img):\n",
        "    w1, b1, w2, b2 = self.best_result['params']\n",
        "    res = img@w1 + b1\n",
        "    res = res.max(tensor(0.0))\n",
        "    res = res@w2 + b2\n",
        "    res = res.sigmoid()\n",
        "    if res >= 0.5:\n",
        "      return 0\n",
        "    else:\n",
        "      return 5\n",
        "\n"
      ],
      "execution_count": null,
      "outputs": []
    },
    {
      "cell_type": "markdown",
      "metadata": {
        "id": "Qa7ZLY752SCV"
      },
      "source": [
        "# Preparação dos dados"
      ]
    },
    {
      "cell_type": "code",
      "metadata": {
        "colab": {
          "base_uri": "https://localhost:8080/"
        },
        "id": "pzd39kelvNkH",
        "outputId": "3090670b-51ba-46c7-d6e1-684e4fcf31cb"
      },
      "source": [
        "# Seleciona imagens (0 e 5) do dataset\n",
        "zeros_train = (path/'training'/'0').ls().sorted()\n",
        "fives_train = (path/'training'/'5').ls().sorted()\n",
        "zeros_test = (path/'testing'/'0').ls().sorted()\n",
        "fives_test = (path/'testing'/'5').ls().sorted()\n",
        "\n",
        "# Cria lista de tensores das imagens\n",
        "zeros_tensor_train = [tensor(Image.open(o)) for o in zeros_train]\n",
        "fives_tensor_train = [tensor(Image.open(o)) for o in fives_train]\n",
        "zeros_tensor_test = [tensor(Image.open(o)) for o in zeros_test]\n",
        "fives_tensor_test = [tensor(Image.open(o)) for o in fives_test]\n",
        "\n",
        "print(f\"{len(zeros_tensor_train)+len(fives_tensor_train)} imagens para treino ({len(zeros_tensor_train)} de 0's e {len(fives_tensor_train)} de 5's)\")\n",
        "print(f\"{len(zeros_tensor_test)+len(fives_tensor_test)} imagens para teste ({len(zeros_tensor_test)} de 0's e {len(fives_tensor_test)} de 5's)\")\n",
        "\n",
        "# Normaliza imagens e cria tensor de tensores\n",
        "stacked_zeros_train = torch.stack(zeros_tensor_train).float()/255\n",
        "stacked_fives_train = torch.stack(fives_tensor_train).float()/255\n",
        "stacked_zeros_test = torch.stack(zeros_tensor_test).float()/255\n",
        "stacked_fives_test = torch.stack(fives_tensor_test).float()/255\n",
        "\n",
        "### Configura dataset\n",
        "## Ground Truth\n",
        "# 1(True): número 0\n",
        "# 0(False): número 5\n",
        "## Train\n",
        "x_train = torch.cat([stacked_zeros_train,stacked_fives_train]).view(-1,28*28)\n",
        "y_train = tensor([1]*len(stacked_zeros_train)+[0]*len(stacked_fives_train)).unsqueeze(1)\n",
        "dataset_train = list(zip(x_train,y_train))\n",
        "## Test\n",
        "x_test = torch.cat([stacked_zeros_test,stacked_fives_test]).view(-1,28*28)\n",
        "y_test = torch.tensor([1]*len(stacked_zeros_test)+[0]*len(stacked_fives_test)).unsqueeze(1)\n",
        "dataset_test = list(zip(x_test,y_test))\n",
        "\n"
      ],
      "execution_count": null,
      "outputs": [
        {
          "output_type": "stream",
          "name": "stdout",
          "text": [
            "11344 imagens para treino (5923 de 0's e 5421 de 5's)\n",
            "1872 imagens para teste (980 de 0's e 892 de 5's)\n"
          ]
        }
      ]
    },
    {
      "cell_type": "markdown",
      "metadata": {
        "id": "TbrQ36gZT02p"
      },
      "source": [
        "# Redes treinadas"
      ]
    },
    {
      "cell_type": "markdown",
      "metadata": {
        "id": "e6fR9UDN2096"
      },
      "source": [
        "## Rede 1\n",
        "\n",
        "Features = 20\n",
        "\n",
        "Batch size = 128\n",
        "\n",
        "Learning rate = 0.1"
      ]
    },
    {
      "cell_type": "code",
      "metadata": {
        "id": "rBOrfmESvghW"
      },
      "source": [
        "r1 = SimpleNet(dataset_train, dataset_test, features=20, batch_size=128,learning_rate=0.1)\n",
        "r1.train_net(3000)\n",
        "r1.best_result['accuracy']"
      ],
      "execution_count": null,
      "outputs": []
    },
    {
      "cell_type": "markdown",
      "metadata": {
        "id": "y6U4y0NWzNQt"
      },
      "source": [
        "## Rede 2\n",
        "\n",
        "Features = 30\n",
        "\n",
        "Batch size = 128\n",
        "\n",
        "Learning rate = 0.1"
      ]
    },
    {
      "cell_type": "code",
      "metadata": {
        "id": "TeHeQNPk_PU_"
      },
      "source": [
        "r2 = SimpleNet(dataset_train, dataset_test, features=30, batch_size=128,learning_rate=0.1)\n",
        "r2.train_net(3000)\n",
        "r2.best_result['accuracy']"
      ],
      "execution_count": null,
      "outputs": []
    },
    {
      "cell_type": "markdown",
      "metadata": {
        "id": "5Fh0aqXS1ckt"
      },
      "source": [
        "## Rede 3\n",
        "\n",
        "Features = 50\n",
        "\n",
        "Batch size = 128\n",
        "\n",
        "Learning rate = 0.1"
      ]
    },
    {
      "cell_type": "code",
      "metadata": {
        "id": "7xOj7fIyiboB"
      },
      "source": [
        "r3 = SimpleNet(dataset_train, dataset_test, features=40, batch_size=128,learning_rate=0.1)\n",
        "r3.train_net(3000)\n",
        "r3.best_result['accuracy']"
      ],
      "execution_count": null,
      "outputs": []
    },
    {
      "cell_type": "markdown",
      "metadata": {
        "id": "3n3QilpZ037t"
      },
      "source": [
        "# Aplicação da rede"
      ]
    },
    {
      "cell_type": "markdown",
      "metadata": {
        "id": "7B4_6ktqBhOh"
      },
      "source": [
        "## Imagem com 0"
      ]
    },
    {
      "cell_type": "code",
      "metadata": {
        "id": "o2AK3fOp08cE",
        "colab": {
          "base_uri": "https://localhost:8080/",
          "height": 102
        },
        "outputId": "89133fee-483d-4c43-9b5a-6c1728155b90"
      },
      "source": [
        "img_0 = choice(stacked_zeros_test)\n",
        "show_image(img_0)\n",
        "img_0 = img_0.view(-1,28*28)\n",
        "print(f\"Número presente na imagem: {r3.find_number(img_0)}\")"
      ],
      "execution_count": 50,
      "outputs": [
        {
          "output_type": "stream",
          "name": "stdout",
          "text": [
            "Número presente na imagem: 0\n"
          ]
        },
        {
          "output_type": "display_data",
          "data": {
            "image/png": "[encoded data removed]",
            "text/plain": [
              "<Figure size 72x72 with 1 Axes>"
            ]
          },
          "metadata": {
            "needs_background": "light"
          }
        }
      ]
    },
    {
      "cell_type": "markdown",
      "metadata": {
        "id": "93bAxvpaBmUH"
      },
      "source": [
        "## Imagem com 5"
      ]
    },
    {
      "cell_type": "code",
      "metadata": {
        "id": "uuMwXNyh8Nye",
        "colab": {
          "base_uri": "https://localhost:8080/",
          "height": 102
        },
        "outputId": "619d823b-f389-4fdc-f2ed-45655a275e9d"
      },
      "source": [
        "img_5 = choice(stacked_fives_test)\n",
        "show_image(img_5)\n",
        "img_5 = img_5.view(-1,28*28)\n",
        "print(f\"Número presente na imagem: {r3.find_number(img_5)}\")"
      ],
      "execution_count": 52,
      "outputs": [
        {
          "output_type": "stream",
          "name": "stdout",
          "text": [
            "Número presente na imagem: 5\n"
          ]
        },
        {
          "output_type": "display_data",
          "data": {
            "image/png": "[encoded data removed]",
            "text/plain": [
              "<Figure size 72x72 with 1 Axes>"
            ]
          },
          "metadata": {
            "needs_background": "light"
          }
        }
      ]
    }
  ]
}